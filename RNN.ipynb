{
 "cells": [
  {
   "cell_type": "code",
   "execution_count": 2,
   "metadata": {
    "collapsed": true
   },
   "outputs": [],
   "source": [
    "import copy\n",
    "import numpy as np"
   ]
  },
  {
   "cell_type": "code",
   "execution_count": 3,
   "metadata": {
    "collapsed": true
   },
   "outputs": [],
   "source": [
    "np.random.seed(0)"
   ]
  },
  {
   "cell_type": "code",
   "execution_count": 4,
   "metadata": {
    "collapsed": true
   },
   "outputs": [],
   "source": [
    "# defining the sigmoid function and itsderivative\n",
    "def sigmoid(x,der = False):\n",
    "    if(der == False):\n",
    "        return 1/(1+np.exp(-x))\n",
    "    else:\n",
    "        return x*(1-x)"
   ]
  },
  {
   "cell_type": "code",
   "execution_count": 5,
   "metadata": {
    "collapsed": true
   },
   "outputs": [],
   "source": [
    "#initialising the integer to binary table\n",
    "int2binary = {}\n",
    "binary_dim = 8\n",
    "\n",
    "largestNo = pow(2,binary_dim)\n",
    "binary = np.unpackbits(np.array([range(largestNo)],dtype=np.uint8).T,axis=1)\n",
    "for i in range(largestNo):\n",
    "    int2binary[i] = binary[i]"
   ]
  },
  {
   "cell_type": "code",
   "execution_count": 6,
   "metadata": {
    "collapsed": true
   },
   "outputs": [],
   "source": [
    "#input variables\n",
    "input_dim = 2\n",
    "output_dim = 1\n",
    "hidden_dim = 16\n",
    "alpha = 0.1"
   ]
  },
  {
   "cell_type": "code",
   "execution_count": 7,
   "metadata": {
    "collapsed": true
   },
   "outputs": [],
   "source": [
    "#initialising the synapses(weights)\n",
    "synapse0 = 2*np.random.rand(input_dim,hidden_dim) - 1\n",
    "synapse1 = 2*np.random.rand(hidden_dim,output_dim) - 1\n",
    "synapseH = 2*np.random.rand(hidden_dim,hidden_dim) - 1"
   ]
  },
  {
   "cell_type": "code",
   "execution_count": 8,
   "metadata": {
    "collapsed": true
   },
   "outputs": [],
   "source": [
    "#updating the synapses\n",
    "synapse0_update = np.zeros_like(synapse0)\n",
    "synapse1_update = np.zeros_like(synapse1)\n",
    "synapseH_update = np.zeros_like(synapseH)"
   ]
  },
  {
   "cell_type": "code",
   "execution_count": 9,
   "metadata": {
    "collapsed": false
   },
   "outputs": [],
   "source": [
    "for iter in range(10):\n",
    "    a_int = np.random.randint(largestNo/2)\n",
    "    a = int2binary[a_int]\n",
    "    \n",
    "    b_int = np.random.randint(largestNo/2)\n",
    "    b = int2binary[b_int]\n",
    "    \n",
    "    c_int = a_int + b_int\n",
    "    c = int2binary[c_int]\n",
    "    \n",
    "    d = np.zeros_like(c)\n",
    "    \n",
    "    overallError = 0\n",
    "    \n",
    "    layer2deltas = list()\n",
    "    layer1values = list()\n",
    "    layer1values.append(np.zeros(hidden_dim))\n",
    "    \n",
    "    for i in range(binary_dim):\n",
    "        #input array\n",
    "        x = np.array([[a[binary_dim-1-i],b[binary_dim-1-i]]])\n",
    "        \n",
    "        #output array\n",
    "        y = np.array([[c[binary_dim-1-i]]]).T\n",
    "        \n",
    "        #hidden layer\n",
    "        layer1 = sigmoid(np.dot(x,synapse0) + np.dot(layer1values[-1],synapseH),False)\n",
    "        \n",
    "        #output layer\n",
    "        layer2 = sigmoid(np.dot(layer1,synapse1),False)\n",
    "        \n",
    "        layer2error = y - layer2\n",
    "        layer2deltas.append(layer2error*sigmoid(layer2,True))\n",
    "        overallError += np.abs(layer2error[0])\n",
    "        \n",
    "        d[binary_dim-1-i] = np.round(layer2[0][0])\n",
    "        \n",
    "        layer1values.append(copy.deepcopy(layer1))\n",
    "        #exit for loop\n",
    "\n",
    "    futureLayer1delta = np.zeros(hidden_dim)\n",
    "\n",
    "    # backtracking in neural network\n",
    "    for i in range(binary_dim):\n",
    "        x = np.array([[a[i],b[i]]])\n",
    "        layer1 = layer1values[-i-1]\n",
    "        prevLayer1 = layer1values[-i-2]\n",
    "        \n",
    "        layer2delta = layer2deltas[-i-1]\n",
    "        layer1delta = (futureLayer1delta.dot(synapseH.T) + layer2delta.dot(synapse1.T)) * sigmoid(layer1,True)\n",
    "        \n",
    "        #update the synapses\n",
    "        synapse1_update += np.atleast_2d(layer1).T.dot(layer2delta)\n",
    "        synapseH_update += np.atleast_2d(prevLayer1).T.dot(layer1delta)\n",
    "        synapse0_update += x.T.dot(layer1delta)\n",
    "        \n",
    "        futureLayer1delta = layer1delta\n",
    "    \n",
    "    synapse0 += synapse0_update*alpha\n",
    "    synapse1 += synapse1_update*alpha\n",
    "    synapseH += synapseH_update*alpha\n",
    "    \n",
    "    synapse0_update *= 0\n",
    "    synapse1_update *= 0\n",
    "    synapseH_update *= 0\n",
    "    \n",
    "    if(iter%200 == 0):\n",
    "        print \"Error:\" + str(overallError)\n",
    "        print \"Prediction:\" + str(d)\n",
    "        print \"Actual:\" + str(c)\n",
    "        out = 0\n",
    "        for index,x in enumerate(reversed(d)):\n",
    "            out += x*pow(2,index)\n",
    "        print str(a_int) + \" + \" + str(b)"
   ]
  },
  {
   "cell_type": "code",
   "execution_count": null,
   "metadata": {
    "collapsed": true
   },
   "outputs": [],
   "source": []
  }
 ],
 "metadata": {
  "anaconda-cloud": {},
  "kernelspec": {
   "display_name": "Python [conda env:gl-env]",
   "language": "python",
   "name": "conda-env-gl-env-py"
  },
  "language_info": {
   "codemirror_mode": {
    "name": "ipython",
    "version": 2
   },
   "file_extension": ".py",
   "mimetype": "text/x-python",
   "name": "python",
   "nbconvert_exporter": "python",
   "pygments_lexer": "ipython2",
   "version": "2.7.12"
  }
 },
 "nbformat": 4,
 "nbformat_minor": 2
}
