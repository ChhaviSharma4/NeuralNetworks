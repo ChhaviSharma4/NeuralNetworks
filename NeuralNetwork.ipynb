{
 "cells": [
  {
   "cell_type": "markdown",
   "metadata": {},
   "source": [
    "# A basic one hidden layer neural network"
   ]
  },
  {
   "cell_type": "code",
   "execution_count": 101,
   "metadata": {
    "collapsed": true
   },
   "outputs": [],
   "source": [
    "import numpy as np"
   ]
  },
  {
   "cell_type": "code",
   "execution_count": 102,
   "metadata": {
    "collapsed": false
   },
   "outputs": [
    {
     "name": "stdout",
     "output_type": "stream",
     "text": [
      "[[0 1 0]\n",
      " [1 1 1]\n",
      " [1 0 0]\n",
      " [0 1 0]]\n"
     ]
    }
   ],
   "source": [
    "#declare 2 arrays x = input and y = output array\n",
    "x = np.array([[0,1,0],[1,1,1],[1,0,0],[0,1,0]])\n",
    "y = np.array([[0,1,1,0]])\n",
    "l0 = x\n",
    "print l0"
   ]
  },
  {
   "cell_type": "code",
   "execution_count": 103,
   "metadata": {
    "collapsed": false
   },
   "outputs": [
    {
     "name": "stdout",
     "output_type": "stream",
     "text": [
      "[[0]\n",
      " [1]\n",
      " [1]\n",
      " [0]]\n"
     ]
    }
   ],
   "source": [
    "y = y.T\n",
    "#.T transposes the y array\n",
    "print y"
   ]
  },
  {
   "cell_type": "code",
   "execution_count": 104,
   "metadata": {
    "collapsed": false
   },
   "outputs": [],
   "source": [
    "# sigmoid function\n",
    "def sigmoid(x, deriv = True):\n",
    "    if deriv == False:\n",
    "        return 1/(1+np.exp(-x))\n",
    "    else:\n",
    "        return x*(1-x)"
   ]
  },
  {
   "cell_type": "code",
   "execution_count": 105,
   "metadata": {
    "collapsed": true
   },
   "outputs": [],
   "source": [
    "# generate a random seed\n",
    "np.random.seed(1)"
   ]
  },
  {
   "cell_type": "code",
   "execution_count": 106,
   "metadata": {
    "collapsed": false
   },
   "outputs": [
    {
     "name": "stdout",
     "output_type": "stream",
     "text": [
      "[[-0.16595599]\n",
      " [ 0.44064899]\n",
      " [-0.99977125]]\n"
     ]
    }
   ],
   "source": [
    "#synapse matrix is a matrix of weights multiplied to input matrix to get the required output\n",
    "synapse = 2*np.random.rand(3,1) - 1\n",
    "#taking the size of synapse matrix as 3x1 and its mean as 1\n",
    "print synapse\n",
    "\n",
    "# #normalising the synapse matrix\n",
    "# synapse = sigmoid(synapse,False)\n",
    "# print synapse"
   ]
  },
  {
   "cell_type": "code",
   "execution_count": 107,
   "metadata": {
    "collapsed": false
   },
   "outputs": [],
   "source": [
    "#iterating this several times to achieve the optimal output\n",
    "for iter in xrange(1000):\n",
    "    #multiplying the synapse with input layer to obtain hidden layer\n",
    "    hiddenLayer = sigmoid(np.dot(l0,synapse),False)\n",
    "    error = y - hiddenLayer\n",
    "    \n",
    "    #multiplying with derivative of input to see the magnitude of error\n",
    "    delta = error*sigmoid(hiddenLayer,True)\n",
    "    \n",
    "    #multiplying with input so that input with 0 as value does not modify the delta dunction\n",
    "    \n",
    "    #adding the error to the synapse\n",
    "    synapse += np.dot(l0.T,delta)"
   ]
  },
  {
   "cell_type": "code",
   "execution_count": 108,
   "metadata": {
    "collapsed": false
   },
   "outputs": [
    {
     "name": "stdout",
     "output_type": "stream",
     "text": [
      "[[ 0.02301114]\n",
      " [ 0.97737555]\n",
      " [ 0.99183289]\n",
      " [ 0.02301114]]\n"
     ]
    }
   ],
   "source": [
    "print hiddenLayer\n",
    "#which should be close to y"
   ]
  },
  {
   "cell_type": "code",
   "execution_count": 109,
   "metadata": {
    "collapsed": false
   },
   "outputs": [
    {
     "name": "stdout",
     "output_type": "stream",
     "text": [
      "[[-0.02301114]\n",
      " [ 0.02262445]\n",
      " [ 0.00816711]\n",
      " [-0.02301114]]\n"
     ]
    }
   ],
   "source": [
    "print error"
   ]
  },
  {
   "cell_type": "markdown",
   "metadata": {},
   "source": [
    "# Making a 3 layer neural network"
   ]
  },
  {
   "cell_type": "code",
   "execution_count": 110,
   "metadata": {
    "collapsed": true
   },
   "outputs": [],
   "source": [
    "#the new synapses will be used to generate 2 hidden layers\n",
    "synapse0 = 2*np.random.rand(3,4) - 1\n",
    "synapse1 = 2*np.random.rand(4,1) - 1"
   ]
  },
  {
   "cell_type": "code",
   "execution_count": 111,
   "metadata": {
    "collapsed": true
   },
   "outputs": [],
   "source": [
    "for iter in xrange(1000):\n",
    "    layer0 = x\n",
    "    layer1 = sigmoid(np.dot(layer0,synapse0),False)\n",
    "    layer2 = sigmoid(np.dot(layer1,synapse1),False)\n",
    "    \n",
    "    #determining the error in layer2 and output\n",
    "    error2 = y - layer2\n",
    "    delta2 = error2*sigmoid(layer2,True)\n",
    "    \n",
    "    #determining the error in layer1\n",
    "    error1 = np.dot(delta2,synapse1.T)\n",
    "    delta1 = error1*sigmoid(layer1,True)\n",
    "    \n",
    "    synapse1 += np.dot(layer1.T,delta2)\n",
    "    synapse0 += np.dot(layer0.T,delta1)"
   ]
  },
  {
   "cell_type": "code",
   "execution_count": 112,
   "metadata": {
    "collapsed": false
   },
   "outputs": [
    {
     "name": "stdout",
     "output_type": "stream",
     "text": [
      "[[ 0.0148819 ]\n",
      " [ 0.98386844]\n",
      " [ 0.98203443]\n",
      " [ 0.0148819 ]]\n"
     ]
    }
   ],
   "source": [
    "print layer2\n",
    "#which should be close to y"
   ]
  },
  {
   "cell_type": "code",
   "execution_count": 113,
   "metadata": {
    "collapsed": false
   },
   "outputs": [
    {
     "name": "stdout",
     "output_type": "stream",
     "text": [
      "[[-0.0148819 ]\n",
      " [ 0.01613156]\n",
      " [ 0.01796557]\n",
      " [-0.0148819 ]]\n"
     ]
    }
   ],
   "source": [
    "print error2"
   ]
  },
  {
   "cell_type": "markdown",
   "metadata": {},
   "source": [
    "# Making a neural network using Gradient Descent"
   ]
  },
  {
   "cell_type": "code",
   "execution_count": 114,
   "metadata": {
    "collapsed": true
   },
   "outputs": [],
   "source": [
    "# declare an array of alphas which determine the slope\n",
    "alphas = [0.001,0.01,0.1,1,10,100]"
   ]
  },
  {
   "cell_type": "code",
   "execution_count": 128,
   "metadata": {
    "collapsed": false
   },
   "outputs": [
    {
     "name": "stdout",
     "output_type": "stream",
     "text": [
      "\n",
      "Error for alpha =0.001\n",
      "[[ 0.636947 ]\n",
      " [-0.3470557]\n",
      " [-0.3562663]\n",
      " [ 0.636947 ]]\n",
      "\n",
      "Error for alpha =0.01\n",
      "[[ 0.61147871]\n",
      " [-0.36854674]\n",
      " [-0.36952116]\n",
      " [ 0.61147871]]\n",
      "\n",
      "Error for alpha =0.1\n",
      "[[ 0.47226899]\n",
      " [-0.43188096]\n",
      " [-0.36089188]\n",
      " [ 0.47226899]]\n",
      "\n",
      "Error for alpha =1\n",
      "[[ 0.06875182]\n",
      " [-0.07828284]\n",
      " [-0.03862511]\n",
      " [ 0.06875182]]\n",
      "\n",
      "Error for alpha =10\n",
      "[[ 0.01488122]\n",
      " [-0.01701801]\n",
      " [-0.00858642]\n",
      " [ 0.01488122]]\n",
      "\n",
      "Error for alpha =100\n",
      "[[ 0.00415866]\n",
      " [-0.00479315]\n",
      " [-0.00256693]\n",
      " [ 0.00415866]]\n"
     ]
    }
   ],
   "source": [
    "#we have the same synapses, layers and errors.\n",
    "synapse0 = 2*np.random.rand(3,4) - 1\n",
    "synapse1 = 2*np.random.rand(4,1) - 1\n",
    "#Only the alpha is multiplied with the sigmoid function to determine optimal rate of change\n",
    "\n",
    "for a in alphas:\n",
    "    print \"\\nError for alpha =\"+ str(a)\n",
    "    for iter in xrange(1000):\n",
    "        layer1 = sigmoid(np.dot(layer0,synapse0),False)\n",
    "        layer2 = sigmoid(np.dot(layer1,synapse1),False)\n",
    "\n",
    "        error2 = layer2 - y\n",
    "        delta2 = error2*sigmoid(layer2,True)\n",
    "        \n",
    "        error1 = np.dot(delta2,synapse1.T)\n",
    "        delta1 = error1*sigmoid(layer1,True)\n",
    "        \n",
    "        synapse1 -= a*(np.dot(layer1.T,delta2))\n",
    "        synapse0 -= a*(np.dot(layer0.T,delta1))\n",
    "        \n",
    "        if(iter%1000==0):\n",
    "            print error2"
   ]
  }
 ],
 "metadata": {
  "anaconda-cloud": {},
  "kernelspec": {
   "display_name": "Python [conda env:gl-env]",
   "language": "python",
   "name": "conda-env-gl-env-py"
  },
  "language_info": {
   "codemirror_mode": {
    "name": "ipython",
    "version": 2
   },
   "file_extension": ".py",
   "mimetype": "text/x-python",
   "name": "python",
   "nbconvert_exporter": "python",
   "pygments_lexer": "ipython2",
   "version": "2.7.12"
  }
 },
 "nbformat": 4,
 "nbformat_minor": 2
}
