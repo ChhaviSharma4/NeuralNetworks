{
 "cells": [
  {
   "cell_type": "markdown",
   "metadata": {},
   "source": [
    "# A basic one hidden layer neural network"
   ]
  },
  {
   "cell_type": "code",
   "execution_count": 1,
   "metadata": {
    "collapsed": true
   },
   "outputs": [],
   "source": [
    "import numpy as np"
   ]
  },
  {
   "cell_type": "code",
   "execution_count": 32,
   "metadata": {
    "collapsed": false
   },
   "outputs": [
    {
     "name": "stdout",
     "output_type": "stream",
     "text": [
      "[[0 1 0]\n",
      " [1 1 1]\n",
      " [1 0 0]\n",
      " [0 1 0]]\n"
     ]
    }
   ],
   "source": [
    "#declare 2 arrays x = input and y = output array\n",
    "x = np.array([[0,1,0],[1,1,1],[1,0,0],[0,1,0]])\n",
    "y = np.array([[0,1,1,0]])\n",
    "l0 = x\n",
    "print l0"
   ]
  },
  {
   "cell_type": "code",
   "execution_count": 33,
   "metadata": {
    "collapsed": false
   },
   "outputs": [
    {
     "name": "stdout",
     "output_type": "stream",
     "text": [
      "[[0]\n",
      " [1]\n",
      " [1]\n",
      " [0]]\n"
     ]
    }
   ],
   "source": [
    "y = y.T\n",
    "#.T transposes the y array\n",
    "print y"
   ]
  },
  {
   "cell_type": "code",
   "execution_count": 34,
   "metadata": {
    "collapsed": false
   },
   "outputs": [],
   "source": [
    "# sigmoid function\n",
    "def sigmoid(x, deriv = True):\n",
    "    if deriv == False:\n",
    "        return 1/(1+np.exp(-x))\n",
    "    else:\n",
    "        return x*(1-x)"
   ]
  },
  {
   "cell_type": "code",
   "execution_count": 35,
   "metadata": {
    "collapsed": true
   },
   "outputs": [],
   "source": [
    "# generate a random seed\n",
    "np.random.seed(1)"
   ]
  },
  {
   "cell_type": "code",
   "execution_count": 46,
   "metadata": {
    "collapsed": false
   },
   "outputs": [
    {
     "name": "stdout",
     "output_type": "stream",
     "text": [
      "[[-0.39533485]\n",
      " [-0.70648822]\n",
      " [-0.81532281]]\n"
     ]
    }
   ],
   "source": [
    "#synapse matrix is a matrix of weights multiplied to input matrix to get the required output\n",
    "synapse = 2*np.random.rand(3,1) - 1\n",
    "#taking the size of synapse matrix as 3x1 and its mean as 1\n",
    "print synapse\n",
    "\n",
    "# #normalising the synapse matrix\n",
    "# synapse = sigmoid(synapse,False)\n",
    "# print synapse"
   ]
  },
  {
   "cell_type": "code",
   "execution_count": 56,
   "metadata": {
    "collapsed": false
   },
   "outputs": [],
   "source": [
    "#iterating this several times to achieve the optimal output\n",
    "for iter in xrange(1000):\n",
    "    #multiplying the synapse with input layer to obtain hidden layer\n",
    "    hiddenLayer = sigmoid(np.dot(l0,synapse),False)\n",
    "    error = y - hiddenLayer\n",
    "    \n",
    "    #multiplying with derivative of input to see the magnitude of error\n",
    "    delta = error*sigmoid(hiddenLayer,True)\n",
    "    \n",
    "    #multiplying with input so that input with 0 as value does not modify the delta dunction\n",
    "    \n",
    "    #adding the error to the synapse\n",
    "    synapse += np.dot(l0.T,delta)"
   ]
  },
  {
   "cell_type": "code",
   "execution_count": 57,
   "metadata": {
    "collapsed": false
   },
   "outputs": [
    {
     "name": "stdout",
     "output_type": "stream",
     "text": [
      "[[ 0.01590968]\n",
      " [ 0.98439577]\n",
      " [ 0.99393605]\n",
      " [ 0.01590968]]\n"
     ]
    }
   ],
   "source": [
    "print hiddenLayer\n",
    "#which should be close to y"
   ]
  },
  {
   "cell_type": "code",
   "execution_count": 58,
   "metadata": {
    "collapsed": false
   },
   "outputs": [
    {
     "name": "stdout",
     "output_type": "stream",
     "text": [
      "[[-0.01590968]\n",
      " [ 0.01560423]\n",
      " [ 0.00606395]\n",
      " [-0.01590968]]\n"
     ]
    }
   ],
   "source": [
    "print error"
   ]
  },
  {
   "cell_type": "markdown",
   "metadata": {},
   "source": [
    "# Making a 3 layer neural network"
   ]
  },
  {
   "cell_type": "code",
   "execution_count": 59,
   "metadata": {
    "collapsed": true
   },
   "outputs": [],
   "source": [
    "#the new synapses will be used to generate 2 hidden layers\n",
    "synapse0 = 2*np.random.rand(3,4) - 1\n",
    "synapse1 = 2*np.random.rand(4,1) - 1"
   ]
  },
  {
   "cell_type": "code",
   "execution_count": 65,
   "metadata": {
    "collapsed": true
   },
   "outputs": [],
   "source": [
    "for iter in xrange(1000):\n",
    "    layer0 = x\n",
    "    layer1 = sigmoid(np.dot(layer0,synapse0),False)\n",
    "    layer2 = sigmoid(np.dot(layer1,synapse1),False)\n",
    "    \n",
    "    #determining the error in layer2 and output\n",
    "    error2 = y - layer2\n",
    "    delta2 = error2*sigmoid(layer2,True)\n",
    "    \n",
    "    #determining the error in layer1\n",
    "    error1 = np.dot(delta2,synapse1.T)\n",
    "    delta1 = error1*sigmoid(layer1,True)\n",
    "    \n",
    "    synapse1 += np.dot(layer1.T,delta2)\n",
    "    synapse0 += np.dot(layer0.T,delta1)"
   ]
  },
  {
   "cell_type": "code",
   "execution_count": 66,
   "metadata": {
    "collapsed": false
   },
   "outputs": [
    {
     "name": "stdout",
     "output_type": "stream",
     "text": [
      "[[ 0.01658672]\n",
      " [ 0.98101385]\n",
      " [ 0.98448505]\n",
      " [ 0.01658672]]\n"
     ]
    }
   ],
   "source": [
    "print layer2\n",
    "#which should be close to y"
   ]
  },
  {
   "cell_type": "code",
   "execution_count": 67,
   "metadata": {
    "collapsed": false
   },
   "outputs": [
    {
     "name": "stdout",
     "output_type": "stream",
     "text": [
      "[[-0.01658672]\n",
      " [ 0.01898615]\n",
      " [ 0.01551495]\n",
      " [-0.01658672]]\n"
     ]
    }
   ],
   "source": [
    "print error2"
   ]
  },
  {
   "cell_type": "markdown",
   "metadata": {},
   "source": [
    "# Making a neural network using Gradient Descent"
   ]
  },
  {
   "cell_type": "code",
   "execution_count": null,
   "metadata": {
    "collapsed": true
   },
   "outputs": [],
   "source": [
    "# declare an array of alphas which determine the slope"
   ]
  }
 ],
 "metadata": {
  "anaconda-cloud": {},
  "kernelspec": {
   "display_name": "Python [conda env:gl-env]",
   "language": "python",
   "name": "conda-env-gl-env-py"
  },
  "language_info": {
   "codemirror_mode": {
    "name": "ipython",
    "version": 2
   },
   "file_extension": ".py",
   "mimetype": "text/x-python",
   "name": "python",
   "nbconvert_exporter": "python",
   "pygments_lexer": "ipython2",
   "version": "2.7.12"
  }
 },
 "nbformat": 4,
 "nbformat_minor": 2
}
